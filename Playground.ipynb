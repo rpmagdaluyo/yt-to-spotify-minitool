{
 "cells": [
  {
   "cell_type": "code",
   "execution_count": 1,
   "metadata": {},
   "outputs": [],
   "source": [
    "#Import Packages\n",
    "import json\n",
    "import os\n",
    "from base64 import b64encode\n",
    "import six\n",
    "\n",
    "import google_auth_oauthlib.flow\n",
    "import googleapiclient.discovery\n",
    "import googleapiclient.errors\n",
    "import requests\n",
    "import youtube_dl\n",
    "import spotipy"
   ]
  },
  {
   "cell_type": "code",
   "execution_count": 56,
   "metadata": {},
   "outputs": [
    {
     "name": "stdout",
     "output_type": "stream",
     "text": [
      "b'MmYzZDY3Mjk1N2QzNGIxN2JhMjE4ZmE5MzU5Yzk5MzY6ODU5MWYyYzQyMTc0NDVmYzljMzcyZmNmNTJiMzEzNWE='\n",
      "<Response [400]>\n"
     ]
    }
   ],
   "source": [
    "spotify_client_id = \"2f3d672957d34b17ba218fa9359c9936\"\n",
    "spotify_client_secret = \"8591f2c4217445fc9c372fcf52b3135a\"\n",
    "\n",
    "# Obtaining a TOKEN from Spotify so that I can make Spotify API Calls\n",
    "# The POST request returns a Response object, which is then converted to a JSON object\n",
    "# which can be accessed as a list\n",
    "\n",
    "oAuth_code = \"AQBYlUDZeljN-cpJSqWH9w6q0styRJo5gvjSz6H0734jJgslkpPnuknRweNdcp29ZJ8yldOjBHBuGUCnDslFmubo7x5EvnV6Ui_BwDosk1fpg2eISdf4go1d0l1PlfblVKJpCHjkB9WLxBNjU_P5Pas7FUGZDkIyVA\"\n",
    "\n",
    "query = \"https://accounts.spotify.com/api/token\"\n",
    "request_body = {\n",
    "    \"grant_type\": \"authorization_code\",\n",
    "    \"code\" : oAuth_code,\n",
    "    \"redirect_uri\" : \"http://localhost:3000\",\n",
    "}\n",
    "\n",
    "text_to_encode = spotify_client_id + \":\" + spotify_client_secret\n",
    "auth_header = b64encode(six.text_type(text_to_encode).encode('ascii'))\n",
    "\n",
    "print(auth_header)\n",
    "\n",
    "auth_request = requests.post(\n",
    "    query,\n",
    "    data = request_body,\n",
    "    headers = {\n",
    "        \"Authorization\" : \"Basic {}\".format(auth_header.decode('ascii')),\n",
    "        \"Content-Type\" : \"application/x-www-form-urlencoded\"\n",
    "    },\n",
    "    verify=True\n",
    ")\n",
    "\n",
    "print(auth_request)\n",
    "\n",
    "#auth_request_json = auth_request.json()\n",
    "\n",
    "#print(auth_request_json['code'])"
   ]
  },
  {
   "cell_type": "code",
   "execution_count": null,
   "metadata": {},
   "outputs": [],
   "source": [
    "# Testing YT Data API\n",
    "\n"
   ]
  }
 ],
 "metadata": {
  "kernelspec": {
   "display_name": "Python 3",
   "language": "python",
   "name": "python3"
  },
  "language_info": {
   "codemirror_mode": {
    "name": "ipython",
    "version": 3
   },
   "file_extension": ".py",
   "mimetype": "text/x-python",
   "name": "python",
   "nbconvert_exporter": "python",
   "pygments_lexer": "ipython3",
   "version": "3.10.11"
  },
  "orig_nbformat": 4
 },
 "nbformat": 4,
 "nbformat_minor": 2
}
