{
 "cells": [
  {
   "attachments": {},
   "cell_type": "markdown",
   "metadata": {},
   "source": [
    "urlparse is a function provided by the urllib.parse module in Python, and it is used for parsing URLs (Uniform Resource Locators). \n",
    "When you have a URL string, urlparse breaks it down into several components, making it easier to work with different parts of the URL.\n",
    "\n",
    "This allows you to access different parts of the URL easily and manipulate them as needed in your Python code.\n",
    "\n",
    "Here are the components that urlparse extracts from a URL:\n",
    "* Scheme (scheme): The network protocol or scheme (e.g., \"http\", \"https\", \"ftp\").\n",
    "* Network Location (netloc): The network location part, including domain or IP address and port (e.g., \"www.example.com:8080\").\n",
    "* Path (path): The path of the resource on the server (e.g., \"/path/to/resource\").\n",
    "* Parameters (params): Parameters for the resource (e.g., \";param=value\").\n",
    "* Query (query): Query parameters for the resource (e.g., \"?key1=value1&key2=value2\").\n",
    "* Fragment (fragment): A fragment identifier, often used to point to a specific section within a resource (e.g., \"#section\")."
   ]
  },
  {
   "cell_type": "code",
   "execution_count": null,
   "metadata": {},
   "outputs": [],
   "source": [
    "from urllib.parse import urlparse\n",
    "\n",
    "url = \"https://www.example.com:8080/path/to/resource?key=value#section\"\n",
    "parsed_url = urlparse(url)\n",
    "\n",
    "print(\"Scheme:\", parsed_url.scheme)\n",
    "print(\"Network Location:\", parsed_url.netloc)\n",
    "print(\"Path:\", parsed_url.path)\n",
    "print(\"Parameters:\", parsed_url.params)\n",
    "print(\"Query:\", parsed_url.query)\n",
    "print(\"Fragment:\", parsed_url.fragment)"
   ]
  }
 ],
 "metadata": {
  "language_info": {
   "name": "python"
  },
  "orig_nbformat": 4
 },
 "nbformat": 4,
 "nbformat_minor": 2
}
