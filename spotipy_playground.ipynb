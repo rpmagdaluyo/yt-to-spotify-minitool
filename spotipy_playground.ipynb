{
 "cells": [
  {
   "cell_type": "code",
   "execution_count": null,
   "metadata": {},
   "outputs": [],
   "source": [
    "import json\n",
    "import os\n",
    "import base64\n",
    "import six\n",
    "import requests\n",
    "\n",
    "import spotipy\n",
    "from spotipy.oauth2 import SpotifyOAuth\n",
    "\n",
    "\"\"\" Spotipy Vars \"\"\"\n",
    "\n",
    "spotify_client_id = \"2f3d672957d34b17ba218fa9359c9936\"\n",
    "spotify_client_secret = \"8591f2c4217445fc9c372fcf52b3135a\"\n",
    "spotify_redirect_uri = \"http://localhost:3000\"\n",
    "scopes = \"playlist-modify-public, \\\n",
    "          playlist-modify-private, \\\n",
    "          user-library-read, \\\n",
    "          ugc-image-upload\"\n",
    "\n",
    "username = \"richardarc18\"\n",
    "\n",
    "sp = spotipy.Spotify(auth_manager=SpotifyOAuth(client_id=spotify_client_id, client_secret=spotify_client_secret, redirect_uri=spotify_redirect_uri, scope=scopes))"
   ]
  }
 ],
 "metadata": {
  "kernelspec": {
   "display_name": "env",
   "language": "python",
   "name": "python3"
  },
  "language_info": {
   "name": "python",
   "version": "3.10.11"
  }
 },
 "nbformat": 4,
 "nbformat_minor": 2
}
