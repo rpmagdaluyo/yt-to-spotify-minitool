{
 "cells": [
  {
   "attachments": {},
   "cell_type": "markdown",
   "metadata": {},
   "source": [
    "Regular Expressions"
   ]
  },
  {
   "cell_type": "code",
   "execution_count": null,
   "metadata": {},
   "outputs": [],
   "source": [
    "import re"
   ]
  },
  {
   "attachments": {},
   "cell_type": "markdown",
   "metadata": {},
   "source": [
    "1. \\d+:\\d+: This part matches the timestamp in the format 0:00. \n",
    "    \\d+ matches one or more digits, \n",
    "    : matches the colon character, \n",
    "    and \\d+ again matches one or more digits.\n",
    "\n",
    "2. \\s*: This part matches zero or more whitespace characters (spaces or tabs) after the timestamp. \n",
    "    \\s represents any whitespace character, and * allows for zero or more occurrences.\n",
    "\n",
    "3. (.*): This part is a capturing group that matches and captures everything (any character) until the end of the line. \n",
    "    .* matches any character (except for a newline) zero or more times.\n",
    "\n",
    "So, in each line, the capturing group (.*) captures everything after the timestamp, giving you the desired song titles without the timestamps. \n",
    "The strip() function is then used to remove any leading or trailing whitespace from the captured text.\n",
    "\n",
    "Putting it all together:\n",
    "\n",
    "\\d+:\\d+\\s*: Matches the timestamp and optional whitespace after it.\n",
    "(.*): Captures the rest of the line."
   ]
  },
  {
   "attachments": {},
   "cell_type": "markdown",
   "metadata": {},
   "source": [
    "Compared against re.search,\n",
    "\n",
    "Use re.search() when you want to find the first occurrence of a pattern, and use re.findall() when you want to find all occurrences of a pattern in a string."
   ]
  },
  {
   "cell_type": "code",
   "execution_count": null,
   "metadata": {},
   "outputs": [],
   "source": [
    "# Example description with song titles and timestamps\n",
    "description = \"\"\"\n",
    "0:00 Cupid\n",
    "1:56 Olaf\n",
    "3:03 Malibu\n",
    "5:05 주황색\n",
    "7:01 Lights Out\n",
    "8:12 Good Day\n",
    "10:04 iffy\n",
    "11:46 GIDDY UP\n",
    "\"\"\"\n",
    "\n",
    "# Regex pattern to extract song titles without timestamps\n",
    "song_titles_match = re.findall(r'\\d+:\\d+\\s*(.*)', description)\n",
    "song_titles = [title.strip() for title in song_titles_match]\n",
    "\n",
    "print(\"Song Titles:\")\n",
    "for title in song_titles:\n",
    "    print(title)"
   ]
  }
 ],
 "metadata": {
  "language_info": {
   "name": "python"
  },
  "orig_nbformat": 4
 },
 "nbformat": 4,
 "nbformat_minor": 2
}
